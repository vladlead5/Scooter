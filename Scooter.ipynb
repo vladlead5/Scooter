{
  "nbformat": 4,
  "nbformat_minor": 0,
  "metadata": {
    "colab": {
      "provenance": [],
      "include_colab_link": true
    },
    "kernelspec": {
      "name": "python3",
      "display_name": "Python 3"
    },
    "language_info": {
      "name": "python"
    }
  },
  "cells": [
    {
      "cell_type": "markdown",
      "metadata": {
        "id": "view-in-github",
        "colab_type": "text"
      },
      "source": [
        "<a href=\"https://colab.research.google.com/github/vladlead5/Scooter/blob/main/Scooter.ipynb\" target=\"_parent\"><img src=\"https://colab.research.google.com/assets/colab-badge.svg\" alt=\"Open In Colab\"/></a>"
      ]
    },
    {
      "cell_type": "markdown",
      "source": [
        "# Система навигации курьеров по замене батарей"
      ],
      "metadata": {
        "id": "TJcM23YWkI1_"
      }
    },
    {
      "cell_type": "code",
      "source": [
        "# !pip install osmnx networkx"
      ],
      "metadata": {
        "colab": {
          "base_uri": "https://localhost:8080/"
        },
        "id": "BFAK3rp7dit5",
        "outputId": "4dcba887-c78d-4929-98e9-463d8d939752"
      },
      "execution_count": null,
      "outputs": [
        {
          "output_type": "stream",
          "name": "stdout",
          "text": [
            "Collecting osmnx\n",
            "  Downloading osmnx-1.9.3-py3-none-any.whl (107 kB)\n",
            "\u001b[2K     \u001b[90m━━━━━━━━━━━━━━━━━━━━━━━━━━━━━━━━━━━━━━━━\u001b[0m \u001b[32m107.2/107.2 kB\u001b[0m \u001b[31m2.3 MB/s\u001b[0m eta \u001b[36m0:00:00\u001b[0m\n",
            "\u001b[?25hRequirement already satisfied: networkx in /usr/local/lib/python3.10/dist-packages (3.3)\n",
            "Requirement already satisfied: geopandas>=0.12 in /usr/local/lib/python3.10/dist-packages (from osmnx) (0.13.2)\n",
            "Requirement already satisfied: numpy>=1.20 in /usr/local/lib/python3.10/dist-packages (from osmnx) (1.25.2)\n",
            "Requirement already satisfied: pandas>=1.1 in /usr/local/lib/python3.10/dist-packages (from osmnx) (2.0.3)\n",
            "Requirement already satisfied: requests>=2.27 in /usr/local/lib/python3.10/dist-packages (from osmnx) (2.31.0)\n",
            "Requirement already satisfied: shapely>=2.0 in /usr/local/lib/python3.10/dist-packages (from osmnx) (2.0.4)\n",
            "Requirement already satisfied: fiona>=1.8.19 in /usr/local/lib/python3.10/dist-packages (from geopandas>=0.12->osmnx) (1.9.6)\n",
            "Requirement already satisfied: packaging in /usr/local/lib/python3.10/dist-packages (from geopandas>=0.12->osmnx) (24.1)\n",
            "Requirement already satisfied: pyproj>=3.0.1 in /usr/local/lib/python3.10/dist-packages (from geopandas>=0.12->osmnx) (3.6.1)\n",
            "Requirement already satisfied: python-dateutil>=2.8.2 in /usr/local/lib/python3.10/dist-packages (from pandas>=1.1->osmnx) (2.8.2)\n",
            "Requirement already satisfied: pytz>=2020.1 in /usr/local/lib/python3.10/dist-packages (from pandas>=1.1->osmnx) (2023.4)\n",
            "Requirement already satisfied: tzdata>=2022.1 in /usr/local/lib/python3.10/dist-packages (from pandas>=1.1->osmnx) (2024.1)\n",
            "Requirement already satisfied: charset-normalizer<4,>=2 in /usr/local/lib/python3.10/dist-packages (from requests>=2.27->osmnx) (3.3.2)\n",
            "Requirement already satisfied: idna<4,>=2.5 in /usr/local/lib/python3.10/dist-packages (from requests>=2.27->osmnx) (3.7)\n",
            "Requirement already satisfied: urllib3<3,>=1.21.1 in /usr/local/lib/python3.10/dist-packages (from requests>=2.27->osmnx) (2.0.7)\n",
            "Requirement already satisfied: certifi>=2017.4.17 in /usr/local/lib/python3.10/dist-packages (from requests>=2.27->osmnx) (2024.6.2)\n",
            "Requirement already satisfied: attrs>=19.2.0 in /usr/local/lib/python3.10/dist-packages (from fiona>=1.8.19->geopandas>=0.12->osmnx) (23.2.0)\n",
            "Requirement already satisfied: click~=8.0 in /usr/local/lib/python3.10/dist-packages (from fiona>=1.8.19->geopandas>=0.12->osmnx) (8.1.7)\n",
            "Requirement already satisfied: click-plugins>=1.0 in /usr/local/lib/python3.10/dist-packages (from fiona>=1.8.19->geopandas>=0.12->osmnx) (1.1.1)\n",
            "Requirement already satisfied: cligj>=0.5 in /usr/local/lib/python3.10/dist-packages (from fiona>=1.8.19->geopandas>=0.12->osmnx) (0.7.2)\n",
            "Requirement already satisfied: six in /usr/local/lib/python3.10/dist-packages (from fiona>=1.8.19->geopandas>=0.12->osmnx) (1.16.0)\n",
            "Installing collected packages: osmnx\n",
            "Successfully installed osmnx-1.9.3\n"
          ]
        }
      ]
    },
    {
      "cell_type": "markdown",
      "source": [
        "## Импорт библиотек"
      ],
      "metadata": {
        "id": "KGNodvRnkC1a"
      }
    },
    {
      "cell_type": "code",
      "source": [
        "import json\n",
        "import random\n",
        "import numpy as np\n",
        "import osmnx as ox\n",
        "import networkx as nx\n",
        "from tqdm import tqdm\n",
        "import matplotlib.pyplot as plt"
      ],
      "metadata": {
        "id": "_kvlcaSSiDbY"
      },
      "execution_count": null,
      "outputs": []
    },
    {
      "cell_type": "markdown",
      "source": [
        "## Загрузка графа центрального района Москвы"
      ],
      "metadata": {
        "id": "kNrO6RohkcG6"
      }
    },
    {
      "cell_type": "code",
      "source": [
        "district_name = \"Central Administrative Okrug, Moscow, Russia\"\n",
        "G = ox.graph_from_place(district_name, network_type='walk')\n",
        "G = G.to_undirected()\n",
        "ox.save_graphml(G, filepath='central_moscow.graphml')"
      ],
      "metadata": {
        "id": "-mE25pLNiLRq"
      },
      "execution_count": null,
      "outputs": []
    },
    {
      "cell_type": "markdown",
      "source": [
        "## Подсчёт расстояний"
      ],
      "metadata": {
        "id": "G6Y5F5HNrtjB"
      }
    },
    {
      "cell_type": "code",
      "source": [
        "G = ox.load_graphml('central_moscow.graphml')\n",
        "\n",
        "nodes = G.nodes\n",
        "\n",
        "SCOOTERS_CNT = 150\n",
        "STATIONS_CNT = 10\n",
        "\n",
        "scooter_nodes = np.random.choice(G.nodes, SCOOTERS_CNT, replace=False)\n",
        "station_nodes = np.random.choice(np.setdiff1d(G.nodes, scooter_nodes), STATIONS_CNT, replace=False)\n",
        "\n",
        "np.savetxt('scooter_nodes.txt', scooter_nodes)\n",
        "np.savetxt('station_nodes.txt', station_nodes)\n",
        "\n",
        "\n",
        "all_nodes = list(station_nodes) + list(scooter_nodes)\n",
        "\n",
        "graph_dist = [[float('inf') for i in range(len(all_nodes))] for j in range(len(all_nodes))]\n",
        "\n",
        "for i in tqdm(range(len(all_nodes))):\n",
        "    for j in range(i + 1, len(all_nodes)):\n",
        "        dist = nx.shortest_path_length(G, source=all_nodes[i], target=all_nodes[j], weight='length')\n",
        "        graph_dist[i][j] = dist\n",
        "        graph_dist[j][i] = dist\n",
        "\n",
        "with open('graph_dist.json', 'w') as file:\n",
        "    data = dict()\n",
        "\n",
        "    data['graph_dist'] = graph_dist\n",
        "\n",
        "    json.dump(data, file)"
      ],
      "metadata": {
        "id": "E0rukByxmNxj"
      },
      "execution_count": null,
      "outputs": []
    },
    {
      "cell_type": "markdown",
      "source": [
        "## Реализация муравьиного алгоритма для нахождения приближённых решений задачи коммивояжёры"
      ],
      "metadata": {
        "id": "jOH1MUBEktyt"
      }
    },
    {
      "cell_type": "code",
      "source": [
        "\n",
        "\n",
        "class Graph():\n",
        "    def __init__(self, nodes, distance, default_pheromone_level = None):\n",
        "        self.nodes = nodes\n",
        "        self.distance = distance\n",
        "\n",
        "        assert distance.shape[1] == distance.shape[0]\n",
        "        if default_pheromone_level:\n",
        "            self.intensity = np.full_like(distance, default_pheromone_level).astype('float64')\n",
        "        else:\n",
        "            self.intensity = np.full_like(distance, self.distance.mean()*10).astype('float64')\n",
        "\n",
        "\n",
        "    def __str__(self):\n",
        "        return f'nodes: {str(self.nodes)}\\n{self.distance}\\n{self.intensity}'\n",
        "\n",
        "alpha = 0.9\n",
        "beta = 1.5\n",
        "\n",
        "def cycle_length(g, cycle):\n",
        "    length = 0\n",
        "    i = 0\n",
        "    while i < len(cycle) -1:\n",
        "        length += g.distance[cycle[i]][cycle[i+1]]\n",
        "        i+=1\n",
        "    length+= g.distance[cycle[i]][cycle[0]]\n",
        "    return length\n",
        "\n",
        "\n",
        "def ant_colony_optimization(g, verbose=True, iterations = 100, ants_per_iteration = 50, q = None, degradation_factor = .9, use_inertia = False, run_experiment_break=False, run_experiment_artificial_good_cycle=False, scooters_cnt=150, stations_cnt=10):\n",
        "    total_ants = 0\n",
        "\n",
        "    if q is None:\n",
        "        q = g.distance.mean()\n",
        "\n",
        "    scooters_power = np.random.randint(10, 50, scooters_cnt)\n",
        "\n",
        "    best_area_power = sum(scooters_power) / len(scooters_power)\n",
        "\n",
        "    best_cycle = None\n",
        "    best_length = float('inf')\n",
        "\n",
        "    for iteration in range(iterations):\n",
        "        print(f'iteration {iteration} \\n' if (verbose and iteration%50==0) else '', end='')\n",
        "        print(f'best weight so far: {round(best_length,2)}\\n' if (verbose and iteration%50==0) else '', end='')\n",
        "        print(f'average intensity {g.intensity.mean()}\\n' if (verbose and iteration%50==0) else '', end='')\n",
        "\n",
        "        cycles = [traverse_graph(g, 11, scooters_power, stations_cnt) for _ in range(ants_per_iteration)]\n",
        "\n",
        "        cycles.sort(key = lambda x: x[1])\n",
        "        cycles = cycles[: ants_per_iteration//2]\n",
        "        total_ants+=ants_per_iteration\n",
        "\n",
        "        if best_cycle: #elitism\n",
        "            cycles.append((best_cycle, best_length, best_area_power))\n",
        "\n",
        "            if use_inertia:\n",
        "                old_best = best_length\n",
        "\n",
        "        for cycle, total_length, area_p in cycles:\n",
        "            if total_length < best_length:\n",
        "                best_length = total_length\n",
        "                best_cycle = cycle\n",
        "                best_area_power = area_p\n",
        "\n",
        "\n",
        "            delta = q/total_length\n",
        "\n",
        "            i = 0\n",
        "\n",
        "            while i < len(cycle) -1:\n",
        "                g.intensity[cycle[i]][cycle[i+1]]+= delta\n",
        "                i+=1\n",
        "            g.intensity[cycle[i]][cycle[0]] += delta\n",
        "            g.intensity *= degradation_factor\n",
        "\n",
        "\n",
        "    return best_cycle, sum(scooters_power) / len(scooters_power), best_area_power\n",
        "\n",
        "\n",
        "def calculate_denominator(g, from_node, remaining_nodes):\n",
        "    denominator = 0\n",
        "\n",
        "    for node in remaining_nodes:\n",
        "        denominator += max(g.intensity[from_node][node], 1e-5) ** alpha * (1 / g.distance[from_node][node]) ** beta\n",
        "\n",
        "    return denominator\n",
        "\n",
        "def traverse_graph(g, source_node, scooters_p, stations_cnt):\n",
        "    visited = np.asarray([1 for _ in range(g.nodes)])\n",
        "    visited[source_node] = 0\n",
        "\n",
        "    scooters_power = [elem for elem in scooters_p]\n",
        "\n",
        "    cycle = [source_node]\n",
        "    steps = 0\n",
        "    current = source_node\n",
        "    remaining_nodes = set([i for i in range(stations_cnt, g.nodes) if i != source_node])\n",
        "    remaining_stations = set([i for i in range(stations_cnt)])\n",
        "    area_power = 0.4\n",
        "    cur_accums = 20\n",
        "\n",
        "    while area_power < 80:\n",
        "\n",
        "        jumps_neighbors = []\n",
        "        jumps_values = []\n",
        "\n",
        "        if cur_accums > 0:\n",
        "\n",
        "\n",
        "            for node in range(stations_cnt, g.nodes):\n",
        "                if visited[node] != 0:\n",
        "                    sediment = max(g.intensity[current][node], 1e-5)\n",
        "                    v = (sediment**0.9 ) / (g.distance[current][node]**1.5)\n",
        "                    jumps_neighbors.append(node)\n",
        "                    jumps_values.append(v)\n",
        "        else:\n",
        "\n",
        "\n",
        "            for node in range(stations_cnt):\n",
        "                if visited[node] != 0:\n",
        "                    sediment = max(g.intensity[current][node], 1e-5)\n",
        "                    v = (sediment**0.9 ) / (g.distance[current][node]**1.5)\n",
        "                    jumps_neighbors.append(node)\n",
        "                    jumps_values.append(v)\n",
        "\n",
        "\n",
        "        next_node = random.choices(jumps_neighbors, weights = jumps_values)[0]\n",
        "\n",
        "\n",
        "        visited[next_node] = 0\n",
        "        current = next_node\n",
        "\n",
        "        if cur_accums > 0:\n",
        "            scooters_power[current - stations_cnt] = 100\n",
        "            remaining_nodes.remove(current)\n",
        "            area_power = sum(scooters_power) / len(scooters_power)\n",
        "            cur_accums -= 1\n",
        "        else:\n",
        "            remaining_stations.remove(current)\n",
        "            cur_accums = 20\n",
        "\n",
        "        cycle.append(current)\n",
        "        steps+=1\n",
        "\n",
        "    total_length = cycle_length(g, cycle)\n",
        "    assert len(list(set(cycle))) == len(cycle)\n",
        "    return cycle, total_length, area_power\n"
      ],
      "metadata": {
        "id": "vuOxJZNbiRBJ"
      },
      "execution_count": null,
      "outputs": []
    },
    {
      "cell_type": "markdown",
      "source": [
        "## Описание"
      ],
      "metadata": {
        "id": "v_ekkRHMlOaz"
      }
    },
    {
      "cell_type": "code",
      "source": [
        "distance = []\n",
        "\n",
        "with open('graph_dist.json') as file:\n",
        "    data = json.load(file)\n",
        "    distance = data['graph_dist']\n",
        "\n",
        "\n",
        "to_add_stations = 5\n",
        "to_add_scooters = 10\n",
        "\n",
        "distance = np.asarray(distance)\n",
        "\n",
        "def add_scooters_and_stations(num_scooters, num_stations):\n",
        "    res = distance\n",
        "\n",
        "    res = np.delete(res, [el for el in range(10 + num_stations, 20)], axis=1)\n",
        "    res = np.delete(res, [el for el in range(10 + num_stations, 20)], axis=0)\n",
        "\n",
        "    res = np.delete(res, [el for el in range(170 + num_scooters - (20 - (10 + num_stations)), 190 - (20 - (10 + num_stations)))], axis=1)\n",
        "    res = np.delete(res, [el for el in range(170 + num_scooters - (20 - (10 + num_stations)), 190 - (20 - (10 + num_stations)))], axis=0)\n",
        "\n",
        "    return res\n",
        "\n",
        "\n",
        "cur = add_scooters_and_stations(to_add_scooters, to_add_stations)\n",
        "\n",
        "cur[np.isinf(cur)] = 0\n",
        "\n",
        "graph = Graph(160 + to_add_scooters + to_add_stations, cur)\n",
        "\n",
        "solution, prev_area_power, cur_area_power = ant_colony_optimization(graph, iterations=50, scooters_cnt=150+ to_add_scooters, stations_cnt=10+to_add_stations)\n",
        "\n",
        "solution += [11]\n",
        "\n",
        "G = ox.load_graphml('central_moscow.graphml')\n",
        "\n",
        "stations_nodes = np.loadtxt('station_nodes.txt').astype(np.int64)\n",
        "scooters_nodes = np.loadtxt('scooter_nodes.txt').astype(np.int64)\n",
        "\n",
        "stations_nodes = stations_nodes[:10 + to_add_stations]\n",
        "scooters_nodes = scooters_nodes[:150 + to_add_scooters]\n",
        "\n",
        "nodes_to_calculate = list(stations_nodes) + list(scooters_nodes)\n",
        "\n",
        "positions = {node: (G.nodes[node]['x'], G.nodes[node]['y']) for node in nodes_to_calculate}\n",
        "\n",
        "plt.figure(figsize=(12, 10))\n",
        "\n",
        "ox.plot_graph(G, node_size=30, edge_linewidth=1, show=False, close=False)\n",
        "\n",
        "plt.scatter(\n",
        "    [positions[node][0] for node in scooters_nodes],\n",
        "    [positions[node][1] for node in scooters_nodes],\n",
        "    c='blue', s=50, label='Самокаты'\n",
        ")\n",
        "plt.scatter(\n",
        "    [positions[node][0] for node in stations_nodes],\n",
        "    [positions[node][1] for node in stations_nodes],\n",
        "    c='green', s=50, label='Зарядные станции'\n",
        ")\n",
        "\n",
        "plt.scatter(\n",
        "    [positions[nodes_to_calculate[11]][0]],\n",
        "    [positions[nodes_to_calculate[11]][1]],\n",
        "    c='yellow', s=50, label='Точка старта'\n",
        ")\n",
        "\n",
        "for i in range(len(solution) - 1):\n",
        "    plt.plot(\n",
        "        [G.nodes[nodes_to_calculate[solution[i]]]['x'], G.nodes[nodes_to_calculate[solution[i + 1]]]['x']],\n",
        "        [G.nodes[nodes_to_calculate[solution[i]]]['y'], G.nodes[nodes_to_calculate[solution[i + 1]]]['y']],\n",
        "        c='red', alpha=0.6\n",
        "    )\n",
        "\n",
        "    plt.text((G.nodes[nodes_to_calculate[solution[i]]]['x'] + G.nodes[nodes_to_calculate[solution[i + 1]]]['x']) /2, (G.nodes[nodes_to_calculate[solution[i]]]['y'] + G.nodes[nodes_to_calculate[solution[i + 1]]]['y']) / 2, str(i + 1), fontsize=7, ha='center', va='center')\n",
        "\n",
        "with open('result.txt', 'w') as file_out:\n",
        "    file_out.write('Before area_power:\\n')\n",
        "    file_out.write(f'{prev_area_power}%\\n')\n",
        "    file_out.write('After area_power:\\n')\n",
        "    file_out.write(f'{cur_area_power}%\\n')\n",
        "    file_out.write('Best cycle:\\n')\n",
        "    file_out.write(f\"[{','.join(map(str, solution))}]\\n\")\n",
        "    file_out.write('Length:\\n')\n",
        "    file_out.write(str(cycle_length(graph, solution[:-1])))\n",
        "\n",
        "\n",
        "plt.legend()\n",
        "plt.title(\"Граф района с объектами\")\n",
        "plt.show()\n"
      ],
      "metadata": {
        "id": "V9ruDvmbimZ8"
      },
      "execution_count": null,
      "outputs": []
    }
  ]
}